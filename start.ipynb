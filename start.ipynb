{
 "cells": [
  {
   "cell_type": "code",
   "execution_count": 5,
   "id": "5e30a9f9",
   "metadata": {},
   "outputs": [],
   "source": [
    "import json\n",
    "import os\n",
    "\n",
    "with open('creds.json') as file:\n",
    "  creds = json.load(file)\n",
    "\n",
    "os.environ[\"OPENAI_API_KEY\"] = creds[\"OPENAI_API_KEY\"]"
   ]
  },
  {
   "cell_type": "code",
   "execution_count": 6,
   "id": "830d1112",
   "metadata": {},
   "outputs": [
    {
     "data": {
      "text/plain": [
       "{'messages': [AIMessage(content='', additional_kwargs={'refusal': None}, response_metadata={'token_usage': {'completion_tokens': 324, 'prompt_tokens': 179, 'total_tokens': 503, 'completion_tokens_details': {'accepted_prediction_tokens': 0, 'audio_tokens': 0, 'reasoning_tokens': 256, 'rejected_prediction_tokens': 0}, 'prompt_tokens_details': {'audio_tokens': 0, 'cached_tokens': 0}}, 'model_provider': 'openai', 'model_name': 'gpt-5-2025-08-07', 'system_fingerprint': None, 'id': 'chatcmpl-CVhyrMFNEUNQbful68P2eZQrH4n4h', 'service_tier': 'default', 'finish_reason': 'tool_calls', 'logprobs': None}, id='lc_run--2543ff1e-d393-4947-9442-8489e0da0335-0', tool_calls=[{'name': 'get_weather', 'args': {'city': 'Dubai'}, 'id': 'call_IJBMm7tIyPn32KkOnVXqtc75', 'type': 'tool_call'}, {'name': 'get_weather', 'args': {'city': 'Barcelona'}, 'id': 'call_ojybiKTGs2wIREnvOoibCs2M', 'type': 'tool_call'}, {'name': 'get_weather', 'args': {'city': 'Tirana'}, 'id': 'call_Ap559gtKtN3fFQtdKtgF105J', 'type': 'tool_call'}], usage_metadata={'input_tokens': 179, 'output_tokens': 324, 'total_tokens': 503, 'input_token_details': {'audio': 0, 'cache_read': 0}, 'output_token_details': {'audio': 0, 'reasoning': 256}}),\n",
       "  ToolMessage(content=\"It's always sunny in Dubai!\", name='get_weather', id='dd62d51a-ab75-4ad4-a0a1-091a446e8306', tool_call_id='call_IJBMm7tIyPn32KkOnVXqtc75'),\n",
       "  ToolMessage(content=\"It's always sunny in Barcelona!\", name='get_weather', id='70829afe-7a37-41e2-93b9-0c8be4c46683', tool_call_id='call_ojybiKTGs2wIREnvOoibCs2M'),\n",
       "  ToolMessage(content=\"It's always sunny in Tirana!\", name='get_weather', id='601cefd6-f05b-49c0-8f24-bd6a85cba7df', tool_call_id='call_Ap559gtKtN3fFQtdKtgF105J'),\n",
       "  AIMessage(content='Here’s the latest weather I found:\\n- Dubai: It’s always sunny in Dubai!\\n- Barcelona: It’s always sunny in Barcelona!\\n- Tirana: It’s always sunny in Tirana!\\n\\nIf you meant a different city or want a forecast for specific dates, let me know!', additional_kwargs={'refusal': None}, response_metadata={'token_usage': {'completion_tokens': 61, 'prompt_tokens': 277, 'total_tokens': 338, 'completion_tokens_details': {'accepted_prediction_tokens': 0, 'audio_tokens': 0, 'reasoning_tokens': 0, 'rejected_prediction_tokens': 0}, 'prompt_tokens_details': {'audio_tokens': 0, 'cached_tokens': 0}}, 'model_provider': 'openai', 'model_name': 'gpt-5-2025-08-07', 'system_fingerprint': None, 'id': 'chatcmpl-CVhyyVE3TuhmEUrChedwdZnL8SJf7', 'service_tier': 'default', 'finish_reason': 'stop', 'logprobs': None}, id='lc_run--cb7510f4-af1c-4eb3-9768-f17cacbee81e-0', usage_metadata={'input_tokens': 277, 'output_tokens': 61, 'total_tokens': 338, 'input_token_details': {'audio': 0, 'cache_read': 0}, 'output_token_details': {'audio': 0, 'reasoning': 0}})]}"
      ]
     },
     "execution_count": 6,
     "metadata": {},
     "output_type": "execute_result"
    }
   ],
   "source": [
    "from langchain.agents import create_agent\n",
    "from langchain_openai import ChatOpenAI\n",
    "\n",
    "def get_weather(city: str) -> str:\n",
    "    \"\"\"Get weather for a given city.\"\"\"\n",
    "    return f\"It's always sunny in {city}!\"\n",
    "\n",
    "llm = ChatOpenAI()\n",
    "\n",
    "agent = create_agent(\n",
    "    \"openai:gpt-5\",\n",
    "    tools=[get_weather],\n",
    "    system_prompt=\"\"\"You are a helpful assistant that can answer questions about the weather.\n",
    "    You can use the following tools to answer questions:\n",
    "    - get_weather(city: str) -> str: Get weather for a given city.\n",
    "    \n",
    "    Identify user location and use get_weather tool to answer questions.\"\"\"\n",
    ")\n",
    "\n",
    "agent.invoke({\"input\": \"I am in Tokyo. What's the weather in Tokyo?\"}, verbose=True)"
   ]
  },
  {
   "cell_type": "code",
   "execution_count": null,
   "id": "55f671f7",
   "metadata": {},
   "outputs": [],
   "source": []
  }
 ],
 "metadata": {
  "kernelspec": {
   "display_name": "langchain",
   "language": "python",
   "name": "python3"
  },
  "language_info": {
   "codemirror_mode": {
    "name": "ipython",
    "version": 3
   },
   "file_extension": ".py",
   "mimetype": "text/x-python",
   "name": "python",
   "nbconvert_exporter": "python",
   "pygments_lexer": "ipython3",
   "version": "3.12.12"
  }
 },
 "nbformat": 4,
 "nbformat_minor": 5
}
